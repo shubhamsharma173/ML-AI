{
  "nbformat": 4,
  "nbformat_minor": 0,
  "metadata": {
    "colab": {
      "name": "GaussianBlur.ipynb",
      "provenance": [],
      "authorship_tag": "ABX9TyPx1oJUE1V0urlT5++zXr/T",
      "include_colab_link": true
    },
    "kernelspec": {
      "name": "python3",
      "display_name": "Python 3"
    },
    "language_info": {
      "name": "python"
    }
  },
  "cells": [
    {
      "cell_type": "markdown",
      "metadata": {
        "id": "view-in-github",
        "colab_type": "text"
      },
      "source": [
        "<a href=\"https://colab.research.google.com/github/shubhamsharma173/ML-AI/blob/master/GaussianBlur.ipynb\" target=\"_parent\"><img src=\"https://colab.research.google.com/assets/colab-badge.svg\" alt=\"Open In Colab\"/></a>"
      ]
    },
    {
      "cell_type": "code",
      "metadata": {
        "id": "2e6Dr_xZSgeJ"
      },
      "source": [
        "import cv2\n",
        "from google.colab.patches import cv2_imshow\n",
        "def pre_process_img(filename, sigmaX):\n",
        "    img = cv2.imread(filename) #Image Read \n",
        "    img = cv2.cvtColor(img, cv2.COLOR_BGR2GRAY)\n",
        "    img = cv2.addWeighted(img, 4, cv2.GaussianBlur(\n",
        "         img, (0, 0), sigmaX), -4, 128)\n",
        "    return img\n",
        "\n",
        "\n",
        "img = pre_process_img('/content/retina.jpg',30)\n",
        "cv2_imshow(img)\n",
        "img = pre_process_img('/content/retina.jpg',60)\n",
        "# img = img/2\n",
        "cv2_imshow(img)"
      ],
      "execution_count": null,
      "outputs": []
    }
  ]
}